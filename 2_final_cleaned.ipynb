{
 "cells": [
  {
   "cell_type": "markdown",
   "id": "97feef25-dc16-47b6-800f-155407e5f5a2",
   "metadata": {},
   "source": [
    "# Практическая работа 2 Обучение с учителем"
   ]
  },
  {
   "cell_type": "markdown",
   "id": "0354d1f0-b911-491c-bdf0-f6dc20410abe",
   "metadata": {},
   "source": [
    "## Часть 1 Подготовка датасета"
   ]
  },
  {
   "cell_type": "markdown",
   "id": "1f3c1d52-98d9-41b6-a152-e765f8109b4f",
   "metadata": {},
   "source": [
    "### Подключение библиотек"
   ]
  },
  {
   "cell_type": "code",
   "execution_count": 1,
   "id": "dfc7c802-b378-4ef1-8081-cb03c1266a39",
   "metadata": {},
   "outputs": [],
   "source": [
    "import matplotlib.pyplot as plt\n",
    "import pandas as pd\n",
    "import numpy as np\n",
    "from sklearn.linear_model import LinearRegression\n",
    "from sklearn.linear_model import Lasso\n",
    "from sklearn.linear_model import Ridge\n",
    "from sklearn.linear_model import ElasticNet\n",
    "from sklearn.linear_model import LogisticRegression\n",
    "from sklearn.svm import SVC\n",
    "from sklearn.pipeline import Pipeline\n",
    "from sklearn.preprocessing import PolynomialFeatures\n",
    "from sklearn.preprocessing import StandardScaler\n",
    "from sklearn.model_selection import train_test_split\n",
    "from sklearn.model_selection import cross_val_score\n",
    "from sklearn.model_selection import cross_validate\n",
    "from sklearn import metrics\n",
    "from sklearn.metrics import confusion_matrix\n",
    "import seaborn as sns\n",
    "%matplotlib inline"
   ]
  },
  {
   "cell_type": "markdown",
   "id": "7080a337-72ae-4977-8362-70827df4e450",
   "metadata": {},
   "source": [
    "### Загрузка датасета"
   ]
  },
  {
   "cell_type": "code",
   "execution_count": 2,
   "id": "dbff87a2-15f3-4cdf-97fe-054b5acd021b",
   "metadata": {},
   "outputs": [],
   "source": [
    "df = pd.read_csv('15.csv')"
   ]
  },
  {
   "cell_type": "markdown",
   "id": "c9897227-877d-4c1c-aad2-9b2ece995666",
   "metadata": {},
   "source": [
    "### Обработка датасета"
   ]
  },
  {
   "cell_type": "code",
   "execution_count": 3,
   "id": "277ba850-d8ec-4935-8877-063b6140dc68",
   "metadata": {},
   "outputs": [
    {
     "name": "stdout",
     "output_type": "stream",
     "text": [
      "Метки классов для weather_main: ['Clear', 'Clouds', 'Drizzle', 'Fog', 'Haze', 'Mist', 'Rain', 'Smoke', 'Snow', 'Squall', 'Thunderstorm']\n"
     ]
    }
   ],
   "source": [
    "# Преобразование текстовых данных в числовые\n",
    "df['holiday'] = df['holiday'].astype('category').cat.codes\n",
    "df['weather_main'] = df['weather_main'].astype('category')\n",
    "df['weather_main_codes'] = df['weather_main'].cat.codes\n",
    "\n",
    "# Сохранение текстовых меток для классификации\n",
    "class_labels = df['weather_main'].cat.categories.tolist()\n",
    "print(\"Метки классов для weather_main:\", class_labels)\n",
    "\n",
    "# Удаление ненужного текстового столбца\n",
    "data_cleaned = df.drop(columns=['weather_main'])"
   ]
  },
  {
   "cell_type": "markdown",
   "id": "4871f2ea-aa8a-449b-9a46-c8b572b13d90",
   "metadata": {},
   "source": [
    "### Создание выборок"
   ]
  },
  {
   "cell_type": "code",
   "execution_count": 5,
   "id": "c2291b91-e359-48a0-81df-3039fd70ffcd",
   "metadata": {},
   "outputs": [],
   "source": [
    "# Для прогнозирования (traffic_volume — целевая переменная)\n",
    "df_reg_data = df.drop(['traffic_volume'], axis=1)\n",
    "df_reg_target = df['traffic_volume']\n",
    "\n",
    "# Для классификации (weather_main_codes — целевая переменная)\n",
    "df_cl_data = df.drop(['weather_main_codes'], axis=1)\n",
    "df_cl_target = df['weather_main_codes']"
   ]
  },
  {
   "cell_type": "code",
   "execution_count": 6,
   "id": "a6eafeb1-a6ca-4b28-b70f-5c0d37d2699f",
   "metadata": {},
   "outputs": [],
   "source": [
    "# Теперь деление \n",
    "data_train_reg, data_test_reg, target_train_reg, target_test_reg = train_test_split(\n",
    "    df_reg_data, df_reg_target, \n",
    "    test_size=0.3, random_state=42\n",
    ")\n",
    "\n",
    "data_train_cl, data_test_cl, target_train_cl, target_test_cl = train_test_split(\n",
    "    df_cl_data, df_cl_target, \n",
    "    test_size=0.3, random_state=42\n",
    ")"
   ]
  },
  {
   "cell_type": "markdown",
   "id": "2106b641-9faa-4f1b-9af1-87dd045e708f",
   "metadata": {},
   "source": [
    "## Часть 2 Прогнозирование"
   ]
  },
  {
   "cell_type": "markdown",
   "id": "8a0f3cc4-549d-4899-aa84-aa55e13e95f2",
   "metadata": {},
   "source": [
    "### Линейная регрессия"
   ]
  },
  {
   "cell_type": "code",
   "execution_count": 7,
   "id": "8718ed06-abdf-4d6f-ae6d-3980a82e97ea",
   "metadata": {},
   "outputs": [],
   "source": [
    "data_train_encoded = pd.get_dummies(data_train_reg)\n",
    "data_test_encoded = pd.get_dummies(data_test_reg)\n",
    "\n",
    "data_test_encoded = data_test_encoded.reindex(columns=data_train_encoded.columns, fill_value=0)\n",
    "\n",
    "\n",
    "linear_regression = LinearRegression()\n",
    "model_lin = linear_regression.fit(data_train_encoded, target_train_reg)"
   ]
  }
 ],
 "metadata": {
  "kernelspec": {
   "display_name": "Python 3 (ipykernel)",
   "language": "python",
   "name": "python3"
  },
  "language_info": {
   "codemirror_mode": {
    "name": "ipython",
    "version": 3
   },
   "file_extension": ".py",
   "mimetype": "text/x-python",
   "name": "python",
   "nbconvert_exporter": "python",
   "pygments_lexer": "ipython3",
   "version": "3.10.12"
  }
 },
 "nbformat": 4,
 "nbformat_minor": 5
}
